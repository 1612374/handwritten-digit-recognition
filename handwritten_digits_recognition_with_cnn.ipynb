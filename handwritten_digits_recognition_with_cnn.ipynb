{
  "nbformat": 4,
  "nbformat_minor": 0,
  "metadata": {
    "colab": {
      "name": "handwritten_digits_recognition_with_cnn.ipynb",
      "version": "0.3.2",
      "provenance": []
    },
    "kernelspec": {
      "name": "python3",
      "display_name": "Python 3"
    }
  },
  "cells": [
    {
      "metadata": {
        "id": "N3l4tumNB5DJ",
        "colab_type": "code",
        "colab": {
          "resources": {
            "http://localhost:8080/nbextensions/google.colab/files.js": {
              "data": "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",
              "ok": true,
              "headers": [
                [
                  "content-type",
                  "application/javascript"
                ]
              ],
              "status": 200,
              "status_text": ""
            }
          },
          "base_uri": "https://localhost:8080/",
          "height": 176
        },
        "outputId": "45c8dcac-72e2-4fe9-8ac2-a2d039c90b5a"
      },
      "cell_type": "code",
      "source": [
        "from google.colab import files\n",
        "uploaded = files.upload()"
      ],
      "execution_count": 1,
      "outputs": [
        {
          "output_type": "display_data",
          "data": {
            "text/html": [
              "\n",
              "     <input type=\"file\" id=\"files-053dae29-6487-4492-ae8f-8fa5d221d1d4\" name=\"files[]\" multiple disabled />\n",
              "     <output id=\"result-053dae29-6487-4492-ae8f-8fa5d221d1d4\">\n",
              "      Upload widget is only available when the cell has been executed in the\n",
              "      current browser session. Please rerun this cell to enable.\n",
              "      </output>\n",
              "      <script src=\"/nbextensions/google.colab/files.js\"></script> "
            ],
            "text/plain": [
              "<IPython.core.display.HTML object>"
            ]
          },
          "metadata": {
            "tags": []
          }
        },
        {
          "output_type": "stream",
          "text": [
            "Saving mnist_train_100.csv to mnist_train_100.csv\n",
            "Saving mnist_train.csv to mnist_train.csv\n",
            "Saving mnist_test_10.csv to mnist_test_10.csv\n",
            "Saving mnist_test.csv to mnist_test.csv\n"
          ],
          "name": "stdout"
        }
      ]
    },
    {
      "metadata": {
        "id": "pYHZ6NuNKbZn",
        "colab_type": "code",
        "colab": {}
      },
      "cell_type": "code",
      "source": [
        "# library\n",
        "import numpy as np\n",
        "import tensorflow as tf\n",
        "import matplotlib.pyplot as plt"
      ],
      "execution_count": 0,
      "outputs": []
    },
    {
      "metadata": {
        "id": "ppDdnhuFQyTd",
        "colab_type": "code",
        "colab": {}
      },
      "cell_type": "code",
      "source": [
        "# some variable\n",
        "img_size = 28\n",
        "num_channels = 1\n",
        "num_labels = 10"
      ],
      "execution_count": 0,
      "outputs": []
    },
    {
      "metadata": {
        "id": "F4XhkEqpJWDm",
        "colab_type": "code",
        "colab": {}
      },
      "cell_type": "code",
      "source": [
        "# read train data\n",
        "file_train = open('mnist_train.csv')\n",
        "rough_train_data = file_train.readlines()\n",
        "file_train.close()\n",
        "\n",
        "# read test data\n",
        "file_test = open('mnist_test.csv')\n",
        "rough_test_data = file_test.readlines()\n",
        "file_test.close()"
      ],
      "execution_count": 0,
      "outputs": []
    },
    {
      "metadata": {
        "id": "aFS4kyhqJ_3y",
        "colab_type": "code",
        "colab": {}
      },
      "cell_type": "code",
      "source": [
        "for i in range(len(rough_train_data)):\n",
        "  rough_train_data[i] = list(rough_train_data[i].split(','))\n",
        "  \n",
        "for i in range(len(rough_test_data)):\n",
        "  rough_test_data[i] = list(rough_test_data[i].split(','))"
      ],
      "execution_count": 0,
      "outputs": []
    },
    {
      "metadata": {
        "id": "jHIEXG72LwhA",
        "colab_type": "code",
        "colab": {
          "base_uri": "https://localhost:8080/",
          "height": 579
        },
        "outputId": "c789d7eb-9fe5-441e-f215-845b872ba3dc"
      },
      "cell_type": "code",
      "source": [
        "\n",
        "# handle rough data, test\n",
        "\n",
        "train_dataset = np.ndarray(shape = (len(rough_train_data), img_size, img_size), dtype = np.float32)#init train dataset\n",
        "num_record = 0 # number of record in train_dataset\n",
        "\n",
        "train_labels = np.ndarray(shape = len(rough_train_data), dtype = np.int32)\n",
        "\n",
        "\n",
        "for data in rough_train_data:\n",
        "    train_dataset[num_record] = (np.asfarray(data[1:]).reshape(img_size,img_size))\n",
        "    train_labels[num_record] = np.int32(data[0])\n",
        "    num_record += 1\n",
        "    \n",
        "\n",
        "print(train_dataset.shape)\n",
        "# check your data handle   \n",
        "plt.title(train_labels[0])\n",
        "plt.imshow(train_dataset[0], cmap = 'Greys')\n",
        "plt.show()\n",
        "\n",
        "\n",
        "test_dataset = np.ndarray(shape = (len(rough_test_data), img_size, img_size), dtype = np.float32)#init train dataset\n",
        "num_record = 0 # number of record in test_dataset\n",
        "\n",
        "test_labels = np.ndarray(shape = len(rough_test_data), dtype = np.int32)\n",
        "\n",
        "\n",
        "for data in rough_test_data:\n",
        "    test_dataset[num_record] = (np.asfarray(data[1:]).reshape(img_size,img_size))\n",
        "    test_labels[num_record] = np.int32(data[0])\n",
        "    num_record += 1\n",
        "    \n",
        "\n",
        "print(test_dataset.shape)\n",
        "# check your data handle   \n",
        "plt.title(test_labels[5])\n",
        "plt.imshow(test_dataset[5], cmap = 'Greys')\n",
        "plt.show()"
      ],
      "execution_count": 25,
      "outputs": [
        {
          "output_type": "stream",
          "text": [
            "(60000, 28, 28)\n"
          ],
          "name": "stdout"
        },
        {
          "output_type": "display_data",
          "data": {
            "image/png": "[encoded data removed]",
            "text/plain": [
              "<Figure size 432x288 with 1 Axes>"
            ]
          },
          "metadata": {
            "tags": []
          }
        },
        {
          "output_type": "stream",
          "text": [
            "(10000, 28, 28)\n"
          ],
          "name": "stdout"
        },
        {
          "output_type": "display_data",
          "data": {
            "image/png": "[encoded data removed]",
            "text/plain": [
              "<Figure size 432x288 with 1 Axes>"
            ]
          },
          "metadata": {
            "tags": []
          }
        }
      ]
    },
    {
      "metadata": {
        "id": "nAU2cWm3SD5l",
        "colab_type": "code",
        "colab": {}
      },
      "cell_type": "code",
      "source": [
        "def accuracy(predictions, labels):\n",
        "  return (100.0 * np.sum(np.argmax(predictions, 1) == np.argmax(labels, 1))\n",
        "          / predictions.shape[0])"
      ],
      "execution_count": 0,
      "outputs": []
    },
    {
      "metadata": {
        "id": "InqvdQ_6itLN",
        "colab_type": "code",
        "colab": {
          "base_uri": "https://localhost:8080/",
          "height": 51
        },
        "outputId": "c8b6b894-14b8-4312-e22d-3bbbba24b1ce"
      },
      "cell_type": "code",
      "source": [
        "def reformat(dataset, labels):\n",
        "  dataset = dataset.reshape(\n",
        "    (-1, img_size, img_size, num_channels)).astype(np.float32)\n",
        "  labels = (np.arange(num_labels) == labels[:,None]).astype(np.float32)\n",
        "  return dataset, labels\n",
        "\n",
        "train_dataset, train_labels = reformat(train_dataset, train_labels)\n",
        "test_dataset, test_labels = reformat(test_dataset, test_labels)\n",
        "print('Training set', train_dataset.shape, train_labels.shape)\n",
        "print('Test set', test_dataset.shape, test_labels.shape)"
      ],
      "execution_count": 37,
      "outputs": [
        {
          "output_type": "stream",
          "text": [
            "Training set (60000, 28, 28, 1) (60000, 10)\n",
            "Test set (10000, 28, 28, 1) (10000, 10)\n"
          ],
          "name": "stdout"
        }
      ]
    },
    {
      "metadata": {
        "id": "4a3XP4cObDjt",
        "colab_type": "text"
      },
      "cell_type": "markdown",
      "source": [
        "**TF graph**"
      ]
    },
    {
      "metadata": {
        "id": "xlIlmrNEa-7f",
        "colab_type": "code",
        "colab": {}
      },
      "cell_type": "code",
      "source": [
        "batch_size = 16\n",
        "depth = 64\n",
        "depth1 = 64\n",
        "depth2 = 64\n",
        "\n",
        "patch_size = 5\n",
        "\n",
        "num_hidden1 = 1024\n",
        "num_hidden2 = 512\n",
        "\n",
        "graph = tf.Graph()\n",
        "\n",
        "with graph.as_default():\n",
        "  tf_train_dataset = tf.placeholder(dtype = tf.float32, shape = (batch_size, img_size, img_size, num_channels))\n",
        "  tf_train_labels = tf.placeholder(dtype = tf.float32, shape = (batch_size, num_labels))\n",
        "  tf_test_dataset = tf.constant(test_dataset)\n",
        "  \n",
        "  #weight\n",
        "  #3 conv\n",
        "  layer1_weight = tf.Variable(tf.truncated_normal([patch_size, patch_size, num_channels, depth], stddev = 0.1))\n",
        "  layer1_biases = tf.Variable(tf.zeros([depth]))\n",
        "\n",
        "  layer2_weight = tf.Variable(tf.truncated_normal([patch_size, patch_size, depth, depth1], stddev = 0.1))\n",
        "  layer2_biases = tf.Variable(tf.zeros([depth1]))\n",
        "\n",
        "  layer3_weight = tf.Variable(tf.truncated_normal([patch_size, patch_size, depth1, depth2], stddev = 0.1))\n",
        "  layer3_biases = tf.Variable(tf.zeros([depth2]))\n",
        "  \n",
        "  # 2 fc\n",
        "  layer4_weight = tf.Variable(tf.truncated_normal([16*depth2, num_hidden1], stddev = 0.1))\n",
        "  layer4_biases = tf.Variable(tf.zeros(num_hidden1))\n",
        "\n",
        "  layer5_weight = tf.Variable(tf.truncated_normal([num_hidden1, num_hidden2], stddev = 0.1))\n",
        "  layer5_biases = tf.Variable(tf.zeros(num_hidden2))\n",
        "  \n",
        "  # to output\n",
        "  layer6_weight = tf.Variable(tf.truncated_normal([num_hidden2, num_labels], stddev = 0.1))\n",
        "  layer6_biases = tf.Variable(tf.zeros(num_labels))\n",
        "  \n",
        "  #compute\n",
        "  def model(data):\n",
        "      #conv1\n",
        "      conv = tf.nn.conv2d(input = data, filter = layer1_weight, strides = [1,1,1,1], padding = 'SAME')\n",
        "      hidden = tf.nn.relu(conv + layer1_biases)\n",
        "      pooling = tf.nn.max_pool(value = hidden, ksize = [1,2,2,1], strides = [1,2,2,1], padding = 'SAME')\n",
        "      \n",
        "      #conv2\n",
        "      conv = tf.nn.conv2d(input = pooling, filter = layer2_weight, strides = [1,1,1,1], padding = 'SAME')\n",
        "      hidden = tf.nn.relu(conv + layer2_biases)\n",
        "      pooling = tf.nn.max_pool(value = hidden, ksize = [1,2,2,1], strides = [1,2,2,1], padding = 'SAME')\n",
        "      \n",
        "      #conv3\n",
        "      conv = tf.nn.conv2d(input = pooling, filter = layer3_weight, strides = [1,1,1,1], padding = 'SAME')\n",
        "      hidden = tf.nn.relu(conv + layer3_biases)\n",
        "      pooling = tf.nn.max_pool(value = hidden, ksize = [1,2,2,1], strides = [1,2,2,1], padding = 'SAME')\n",
        "      \n",
        "      #fc1\n",
        "      shape = pooling.get_shape().as_list()\n",
        "      reshape = tf.reshape(pooling, [shape[0], shape[1]*shape[2]*shape[3]])\n",
        "      hidden1 = tf.nn.relu(tf.matmul(reshape, layer4_weight) + layer4_biases)\n",
        "      \n",
        "      #dropout1\n",
        "      hidden1 = tf.nn.dropout(hidden1, keep_prob = 0.5)\n",
        "      \n",
        "      #fc2 \n",
        "      hidden2 = tf.nn.relu(tf.matmul(hidden1, layer5_weight) + layer5_biases)\n",
        "\n",
        "      #dropout2\n",
        "      hidden2 = tf.nn.dropout(hidden2, keep_prob = 0.5)\n",
        "\n",
        "      #output\n",
        "      return tf.matmul(hidden2, layer6_weight) + layer6_biases\n",
        "    \n",
        "  logits = model(tf_train_dataset)\n",
        "  loss = tf.reduce_mean(tf.nn.softmax_cross_entropy_with_logits_v2(logits = logits, labels = tf_train_labels))\n",
        "  \n",
        "  \n",
        "  #optimizer\n",
        "  optimizer =tf.train.AdamOptimizer(1e-4).minimize(loss)\n",
        "  \n",
        "  #prediction\n",
        "  train_prediction = tf.nn.softmax(logits)\n",
        "  test_prediction = tf.nn.softmax(model(tf_test_dataset))"
      ],
      "execution_count": 0,
      "outputs": []
    },
    {
      "metadata": {
        "id": "HTPF1zmRjNlZ",
        "colab_type": "text"
      },
      "cell_type": "markdown",
      "source": [
        "**Run session**"
      ]
    },
    {
      "metadata": {
        "id": "z0rVAFJwjQv2",
        "colab_type": "code",
        "colab": {
          "base_uri": "https://localhost:8080/",
          "height": 765
        },
        "outputId": "6a9e1879-5bf8-4181-96fd-c27ef02372f4"
      },
      "cell_type": "code",
      "source": [
        "num_step = 100001\n",
        "\n",
        "with tf.Session(graph = graph) as session:\n",
        "  tf.global_variables_initializer().run()\n",
        "  print('Init variable')\n",
        "    \n",
        "  for step in range(num_step):\n",
        "      offset = (batch_size * step) % (train_dataset.shape[0] - batch_size)\n",
        "      batch_data = train_dataset[offset:(offset + batch_size), :, :, :]\n",
        "      batch_labels = train_labels[offset:(offset + batch_size), :]\n",
        "        \n",
        "      feed_dict = {tf_train_dataset:batch_data, tf_train_labels: batch_labels}\n",
        "        \n",
        "      _, l, predictions = session.run([optimizer, loss, train_prediction], feed_dict = feed_dict)\n",
        "        \n",
        "      if (step % 5000 == 0):\n",
        "        print('Minibatch loss at step %d: %f' % (step, l))\n",
        "        print('Minibatch accuracy: %.1f%%' % accuracy(predictions, batch_labels))\n",
        "        \n",
        "    \n",
        "  print('Test accuracy: %.1f%%' % accuracy(test_prediction.eval(), test_labels))"
      ],
      "execution_count": 39,
      "outputs": [
        {
          "output_type": "stream",
          "text": [
            "Init variable\n",
            "Minibatch loss at step 0: 6548.507812\n",
            "Minibatch accuracy: 0.0%\n",
            "Minibatch loss at step 5000: 86.191925\n",
            "Minibatch accuracy: 68.8%\n",
            "Minibatch loss at step 10000: 0.989841\n",
            "Minibatch accuracy: 93.8%\n",
            "Minibatch loss at step 15000: 2.213579\n",
            "Minibatch accuracy: 93.8%\n",
            "Minibatch loss at step 20000: 0.000000\n",
            "Minibatch accuracy: 100.0%\n",
            "Minibatch loss at step 25000: 0.128128\n",
            "Minibatch accuracy: 93.8%\n",
            "Minibatch loss at step 30000: 1.270296\n",
            "Minibatch accuracy: 81.2%\n",
            "Minibatch loss at step 35000: 1.057859\n",
            "Minibatch accuracy: 93.8%\n",
            "Minibatch loss at step 40000: 0.614537\n",
            "Minibatch accuracy: 87.5%\n",
            "Minibatch loss at step 45000: 0.000236\n",
            "Minibatch accuracy: 100.0%\n",
            "Minibatch loss at step 50000: 0.012244\n",
            "Minibatch accuracy: 100.0%\n",
            "Minibatch loss at step 55000: 0.044794\n",
            "Minibatch accuracy: 93.8%\n",
            "Minibatch loss at step 60000: 0.021655\n",
            "Minibatch accuracy: 100.0%\n",
            "Minibatch loss at step 65000: 0.000005\n",
            "Minibatch accuracy: 100.0%\n",
            "Minibatch loss at step 70000: 0.000008\n",
            "Minibatch accuracy: 100.0%\n",
            "Minibatch loss at step 75000: 0.000001\n",
            "Minibatch accuracy: 100.0%\n",
            "Minibatch loss at step 80000: 0.386927\n",
            "Minibatch accuracy: 93.8%\n",
            "Minibatch loss at step 85000: 0.000030\n",
            "Minibatch accuracy: 100.0%\n",
            "Minibatch loss at step 90000: 0.000704\n",
            "Minibatch accuracy: 100.0%\n",
            "Minibatch loss at step 95000: 0.000009\n",
            "Minibatch accuracy: 100.0%\n",
            "Minibatch loss at step 100000: 0.014427\n",
            "Minibatch accuracy: 100.0%\n",
            "Test accuracy: 98.3%\n"
          ],
          "name": "stdout"
        }
      ]
    }
  ]
}