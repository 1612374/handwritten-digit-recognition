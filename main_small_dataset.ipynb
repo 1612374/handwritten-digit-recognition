{
 "cells": [
  {
   "cell_type": "code",
   "execution_count": 46,
   "metadata": {},
   "outputs": [],
   "source": [
    "# import library\n",
    "from neuralNetwork import NeuralNetWork\n",
    "import numpy as np\n",
    "import os\n",
    "import matplotlib.pyplot as plt\n",
    "%matplotlib inline"
   ]
  },
  {
   "cell_type": "code",
   "execution_count": 47,
   "metadata": {},
   "outputs": [],
   "source": [
    "# declare some variable\n",
    "\n",
    "img_size = 28\n",
    "num_hidden_nodes = 200\n",
    "learning_rate = 0.1"
   ]
  },
  {
   "cell_type": "code",
   "execution_count": 48,
   "metadata": {},
   "outputs": [],
   "source": [
    "# processing data\n",
    "#train dataset 100\n",
    "# get data from file\n",
    "\n",
    "\n",
    "data_file = open('mnist_train_100.csv','r')\n",
    "rough_data = data_file.readlines()\n",
    "data_file.close()\n",
    "\n",
    "for i in range(len(rough_data)):\n",
    "    rough_data[i] = rough_data[i].split(',')\n",
    "\n",
    "#print(len(rough_data))\n",
    "\n",
    "data_file = open('mnist_test_10.csv', 'r')\n",
    "rough_test = data_file.readlines()\n",
    "data_file.close()\n",
    "\n",
    "\n",
    "for i in range(len(rough_test)):\n",
    "    rough_test[i] = rough_test[i].split(',')\n",
    "\n"
   ]
  },
  {
   "cell_type": "code",
   "execution_count": 49,
   "metadata": {},
   "outputs": [
    {
     "data": {
      "image/png": "[encoded data removed]",
      "text/plain": [
       "<Figure size 432x288 with 1 Axes>"
      ]
     },
     "metadata": {
      "needs_background": "light"
     },
     "output_type": "display_data"
    },
    {
     "data": {
      "text/plain": [
       "<matplotlib.image.AxesImage at 0x7fd2ddebdc88>"
      ]
     },
     "execution_count": 49,
     "metadata": {},
     "output_type": "execute_result"
    },
    {
     "data": {
      "image/png": "[encoded data removed]",
      "text/plain": [
       "<Figure size 432x288 with 1 Axes>"
      ]
     },
     "metadata": {
      "needs_background": "light"
     },
     "output_type": "display_data"
    }
   ],
   "source": [
    "# handle rough data, test\n",
    "\n",
    "train_100_dataset = np.ndarray(shape = (len(rough_data), img_size, img_size), dtype = np.float32)#init train dataset\n",
    "num_record = 0 # number of record in train_100_dataset\n",
    "\n",
    "train_100_labels = np.ndarray(shape = len(rough_data), dtype = np.int32)\n",
    "\n",
    "\n",
    "for data in rough_data:\n",
    "    train_100_dataset[num_record] = (np.asfarray(data[1:]).reshape(img_size,img_size))\n",
    "    train_100_labels[num_record] = np.int32(data[0])\n",
    "    num_record += 1\n",
    "    \n",
    "\n",
    "# print(train_100_dataset.shape)\n",
    "# check your data handle   \n",
    "plt.title(train_100_labels[0])\n",
    "plt.imshow(train_100_dataset[0], cmap = 'Greys')\n",
    "plt.show()\n",
    "\n",
    "\n",
    "test_10_dataset = np.ndarray(shape = (len(rough_test), img_size, img_size), dtype = np.float32)#init train dataset\n",
    "num_record = 0 # number of record in test_10_dataset\n",
    "\n",
    "test_10_labels = np.ndarray(shape = len(rough_test), dtype = np.int32)\n",
    "\n",
    "\n",
    "for data in rough_test:\n",
    "    test_10_dataset[num_record] = (np.asfarray(data[1:]).reshape(img_size,img_size))\n",
    "    test_10_labels[num_record] = np.int32(data[0])\n",
    "    num_record += 1\n",
    "    \n",
    "\n",
    "# print(train_100_dataset.shape)\n",
    "# check your data handle   \n",
    "plt.title(test_10_labels[5])\n",
    "plt.imshow(test_10_dataset[5], cmap = 'Greys')"
   ]
  },
  {
   "cell_type": "code",
   "execution_count": 50,
   "metadata": {},
   "outputs": [],
   "source": [
    "# training\n",
    "\n",
    "myNN = NeuralNetWork(img_size*img_size, num_hidden_nodes, 10, learning_rate)\n",
    "\n",
    "data_in_vector = train_100_dataset.reshape(-1,img_size*img_size)\n",
    "\n",
    "#print(data_in_vector.shape)\n",
    "\n",
    "for i in range(len(train_100_dataset)): \n",
    "    inputs_list = data_in_vector[i]\n",
    "    inputs_list = (np.asfarray(data_in_vector[i][0:]) / 255.0 * 0.99) + 0.01\n",
    "    targets_list = np.zeros(10) + 0.01\n",
    "    targets_list[np.int32(train_100_labels[i])] = 0.99\n",
    "    myNN.train(inputs_list, targets_list)\n",
    "    \n",
    "\n"
   ]
  },
  {
   "cell_type": "code",
   "execution_count": 51,
   "metadata": {},
   "outputs": [
    {
     "name": "stdout",
     "output_type": "stream",
     "text": [
      "[7 2 1 0 4 1 4 9 5 9]\n",
      "[7 3 1 0 4 1 4 6 6 7]\n",
      "[1, 7, 8, 9]\n"
     ]
    },
    {
     "data": {
      "image/png": "[encoded data removed]",
      "text/plain": [
       "<Figure size 1440x288 with 4 Axes>"
      ]
     },
     "metadata": {
      "needs_background": "light"
     },
     "output_type": "display_data"
    }
   ],
   "source": [
    "# testing\n",
    "test_in_vector = test_10_dataset.reshape(-1,img_size*img_size)\n",
    "predictions = []\n",
    "\n",
    "for record in test_in_vector:\n",
    "    query_list = myNN.query(record).tolist()\n",
    "    predictions.append(query_list.index(max(query_list)))\n",
    "    \n",
    "\n",
    "print(test_10_labels)\n",
    "print(np.array(predictions))\n",
    "\n",
    "\n",
    "# show some misclassifed\n",
    "misclassifiedIndexes = []\n",
    "\n",
    "for index in range(len(predictions)):\n",
    "    if test_10_labels[index] != predictions[index]:\n",
    "        misclassifiedIndexes.append(index)\n",
    "        \n",
    "print(misclassifiedIndexes)\n",
    "\n",
    "plt.figure(figsize = (20,4))\n",
    "\n",
    "for plotIndex, index in enumerate(misclassifiedIndexes):\n",
    "    plt.subplot(1,len(misclassifiedIndexes), plotIndex+1)\n",
    "    plt.imshow(test_10_dataset[index], cmap = 'Greys')\n",
    "    plt.title('Predicted: {}, Actual: {}'.format(predictions[index], test_10_labels[index]))"
   ]
  }
 ],
 "metadata": {
  "kernelspec": {
   "display_name": "Python 3",
   "language": "python",
   "name": "python3"
  },
  "language_info": {
   "codemirror_mode": {
    "name": "ipython",
    "version": 3
   },
   "file_extension": ".py",
   "mimetype": "text/x-python",
   "name": "python",
   "nbconvert_exporter": "python",
   "pygments_lexer": "ipython3",
   "version": "3.7.1"
  }
 },
 "nbformat": 4,
 "nbformat_minor": 2
}
